{
 "cells": [
  {
   "cell_type": "markdown",
   "metadata": {},
   "source": [
    "Логин на kaggle: edorofeeva 00, в leaderboard: Elena Dorofeeva "
   ]
  },
  {
   "cell_type": "markdown",
   "metadata": {},
   "source": [
    "## Предобработка данных"
   ]
  },
  {
   "cell_type": "code",
   "execution_count": 58,
   "metadata": {},
   "outputs": [],
   "source": [
    "import pandas as pd\n",
    "import numpy as np\n",
    "from sklearn.preprocessing import OneHotEncoder"
   ]
  },
  {
   "cell_type": "code",
   "execution_count": 2,
   "metadata": {},
   "outputs": [],
   "source": [
    "test = pd.read_csv('test.csv', sep=';')\n",
    "train = pd.read_csv('train.csv', sep=';')"
   ]
  },
  {
   "cell_type": "code",
   "execution_count": 3,
   "metadata": {},
   "outputs": [
    {
     "name": "stdout",
     "output_type": "stream",
     "text": [
      "Missing values by features:\n",
      "ID                          0\n",
      "Sex                         0\n",
      "Age                       258\n",
      "State                       0\n",
      "Account length              0\n",
      "Phone number                0\n",
      "Plans                      29\n",
      "Number vmail messages       0\n",
      "Total day minutes           0\n",
      "Total day calls             0\n",
      "Total day charge            0\n",
      "Total eve minutes           0\n",
      "Total eve calls             0\n",
      "Total eve charge            0\n",
      "Total night minutes         0\n",
      "Total night calls           0\n",
      "Total night charge          0\n",
      "Total intl minutes          0\n",
      "Total intl calls            0\n",
      "Total intl charge           0\n",
      "Total charge                0\n",
      "Customer service calls      0\n",
      "dtype: int64\n"
     ]
    }
   ],
   "source": [
    "A = test.isnull()\n",
    "print('Missing values by features:', A.sum(), sep='\\n')"
   ]
  },
  {
   "cell_type": "code",
   "execution_count": 4,
   "metadata": {},
   "outputs": [
    {
     "name": "stdout",
     "output_type": "stream",
     "text": [
      "Missing values by features:\n",
      "ID                          0\n",
      "Sex                         0\n",
      "Age                       742\n",
      "State                       0\n",
      "Account length              0\n",
      "Phone number                0\n",
      "Plans                      71\n",
      "Number vmail messages       0\n",
      "Total day minutes           0\n",
      "Total day calls             0\n",
      "Total day charge            0\n",
      "Total eve minutes           0\n",
      "Total eve calls             0\n",
      "Total eve charge            0\n",
      "Total night minutes         0\n",
      "Total night calls           0\n",
      "Total night charge          0\n",
      "Total intl minutes          0\n",
      "Total intl calls            0\n",
      "Total intl charge           0\n",
      "Total charge                0\n",
      "Customer service calls      0\n",
      "Churn                       0\n",
      "dtype: int64\n"
     ]
    }
   ],
   "source": [
    "A = train.isnull()\n",
    "print('Missing values by features:', A.sum(), sep='\\n')"
   ]
  },
  {
   "cell_type": "code",
   "execution_count": 5,
   "metadata": {},
   "outputs": [
    {
     "name": "stdout",
     "output_type": "stream",
     "text": [
      "Missing values by features:\n",
      "ID                        0\n",
      "Sex                       0\n",
      "Age                       0\n",
      "State                     0\n",
      "Account length            0\n",
      "Phone number              0\n",
      "Plans                     0\n",
      "Number vmail messages     0\n",
      "Total day minutes         0\n",
      "Total day calls           0\n",
      "Total day charge          0\n",
      "Total eve minutes         0\n",
      "Total eve calls           0\n",
      "Total eve charge          0\n",
      "Total night minutes       0\n",
      "Total night calls         0\n",
      "Total night charge        0\n",
      "Total intl minutes        0\n",
      "Total intl calls          0\n",
      "Total intl charge         0\n",
      "Total charge              0\n",
      "Customer service calls    0\n",
      "dtype: int64\n"
     ]
    }
   ],
   "source": [
    "test['Age'].fillna(round(test['Age'].mean(), 0), inplace=True)\n",
    "test['Plans'].fillna('None', inplace=True)\n",
    "A = test.isnull()\n",
    "print('Missing values by features:', A.sum(), sep='\\n')"
   ]
  },
  {
   "cell_type": "code",
   "execution_count": 6,
   "metadata": {},
   "outputs": [
    {
     "name": "stdout",
     "output_type": "stream",
     "text": [
      "Missing values by features:\n",
      "ID                        0\n",
      "Sex                       0\n",
      "Age                       0\n",
      "State                     0\n",
      "Account length            0\n",
      "Phone number              0\n",
      "Plans                     0\n",
      "Number vmail messages     0\n",
      "Total day minutes         0\n",
      "Total day calls           0\n",
      "Total day charge          0\n",
      "Total eve minutes         0\n",
      "Total eve calls           0\n",
      "Total eve charge          0\n",
      "Total night minutes       0\n",
      "Total night calls         0\n",
      "Total night charge        0\n",
      "Total intl minutes        0\n",
      "Total intl calls          0\n",
      "Total intl charge         0\n",
      "Total charge              0\n",
      "Customer service calls    0\n",
      "Churn                     0\n",
      "dtype: int64\n"
     ]
    }
   ],
   "source": [
    "train['Age'].fillna(round(test['Age'].mean(), 0), inplace=True)\n",
    "train['Plans'].fillna('None', inplace=True)\n",
    "A = train.isnull()\n",
    "print('Missing values by features:', A.sum(), sep='\\n')"
   ]
  },
  {
   "cell_type": "code",
   "execution_count": 7,
   "metadata": {},
   "outputs": [],
   "source": [
    "test['Total day minutes'] = test['Total day minutes'].apply(lambda x: x.replace(',', '.'))\n",
    "test['Total day minutes'] = test['Total day minutes'].apply(lambda x: x.replace('o', '0'))\n",
    "test['Total day calls'] = test['Total day calls'].apply(lambda x: x.replace('o', '0'))\n",
    "test['Total night minutes'] = test['Total night minutes'].apply(lambda x: x.replace('l', '1'))\n",
    "test['Total intl minutes'] = test['Total intl minutes'].apply(lambda x: x.replace(',', '.'))\n",
    "test['Total charge'] = test['Total charge'].apply(lambda x: float(x.replace(' hundred', '')) * 100)\n",
    "test['Customer service calls'] = test['Customer service calls'].apply(lambda x: x.replace('o', '0'))"
   ]
  },
  {
   "cell_type": "code",
   "execution_count": 8,
   "metadata": {},
   "outputs": [],
   "source": [
    "train['Total day minutes'] = train['Total day minutes'].apply(lambda x: x.replace(',', '.'))\n",
    "train['Total day minutes'] = train['Total day minutes'].apply(lambda x: x.replace('o', '0'))\n",
    "train['Total day calls'] = train['Total day calls'].apply(lambda x: x.replace('o', '0'))\n",
    "train['Total night minutes'] = train['Total night minutes'].apply(lambda x: x.replace('l', '1'))\n",
    "train['Total intl minutes'] = train['Total intl minutes'].apply(lambda x: x.replace(',', '.'))\n",
    "train['Total charge'] = train['Total charge'].apply(lambda x: float(x.replace(' hundred', '')) * 100)\n",
    "train['Customer service calls'] = train['Customer service calls'].apply(lambda x: x.replace('o', '0'))"
   ]
  },
  {
   "cell_type": "code",
   "execution_count": 9,
   "metadata": {},
   "outputs": [],
   "source": [
    "test['Age'] = test['Age'].astype('int64')\n",
    "test['Total day minutes'] = test['Total day minutes'].astype('float64')\n",
    "test['Total day calls'] = test['Total day calls'].astype('float64')\n",
    "test['Total night minutes'] = test['Total night minutes'].astype('float64')\n",
    "test['Total intl minutes'] = test['Total intl minutes'].astype('float64')\n",
    "test['Total charge'] = test['Total charge'].astype('float64')\n",
    "test['Customer service calls'] = test['Customer service calls'].astype('int64')"
   ]
  },
  {
   "cell_type": "code",
   "execution_count": 10,
   "metadata": {},
   "outputs": [],
   "source": [
    "train['Age'] = train['Age'].astype('int64')\n",
    "train['Total day minutes'] = train['Total day minutes'].astype('float64')\n",
    "train['Total day calls'] = train['Total day calls'].astype('float64')\n",
    "train['Total night minutes'] = train['Total night minutes'].astype('float64')\n",
    "train['Total intl minutes'] = train['Total intl minutes'].astype('float64')\n",
    "train['Total charge'] = train['Total charge'].astype('float64')\n",
    "train['Customer service calls'] = train['Customer service calls'].astype('int64')"
   ]
  },
  {
   "cell_type": "code",
   "execution_count": 11,
   "metadata": {},
   "outputs": [],
   "source": [
    "test.drop(['Phone number'], axis=1, inplace=True)\n",
    "test.drop(['ID'], axis=1, inplace=True)\n",
    "test.drop(['Number vmail messages'], axis=1, inplace=True)\n",
    "test.drop(['Total day charge'], axis=1, inplace=True)\n",
    "test.drop(['Total eve charge'], axis=1, inplace=True)\n",
    "test.drop(['Total night charge'], axis=1, inplace=True)\n",
    "test.drop(['Total intl charge'], axis=1, inplace=True)\n",
    "test.drop(['Account length'], axis=1, inplace=True)\n",
    "test.drop(['Age'], axis=1, inplace=True)\n",
    "test.drop(['Sex'], axis=1, inplace=True)"
   ]
  },
  {
   "cell_type": "code",
   "execution_count": 12,
   "metadata": {},
   "outputs": [],
   "source": [
    "train.drop(['Phone number'], axis=1, inplace=True)\n",
    "train.drop(['ID'], axis=1, inplace=True)\n",
    "train.drop(['Number vmail messages'], axis=1, inplace=True)\n",
    "train.drop(['Total day charge'], axis=1, inplace=True)\n",
    "train.drop(['Total eve charge'], axis=1, inplace=True)\n",
    "train.drop(['Total night charge'], axis=1, inplace=True)\n",
    "train.drop(['Total intl charge'], axis=1, inplace=True)\n",
    "train.drop(['Account length'], axis=1, inplace=True)\n",
    "train.drop(['Age'], axis=1, inplace=True)\n",
    "train.drop(['Sex'], axis=1, inplace=True)"
   ]
  },
  {
   "cell_type": "code",
   "execution_count": 15,
   "metadata": {},
   "outputs": [],
   "source": [
    "one = OneHotEncoder(sparse=False)"
   ]
  },
  {
   "cell_type": "code",
   "execution_count": 16,
   "metadata": {},
   "outputs": [],
   "source": [
    "transformed = one.fit_transform(test.Plans.values.reshape(-1, 1))\n",
    "one_df = pd.DataFrame(transformed, columns=one.get_feature_names())\n",
    "test = pd.concat([test, one_df], axis=1).drop(['Plans'], axis=1)"
   ]
  },
  {
   "cell_type": "code",
   "execution_count": 17,
   "metadata": {},
   "outputs": [],
   "source": [
    "transformed = one.fit_transform(train.Plans.values.reshape(-1, 1))\n",
    "one_df = pd.DataFrame(transformed, columns=one.get_feature_names())\n",
    "train = pd.concat([train, one_df], axis=1).drop(['Plans'], axis=1)"
   ]
  },
  {
   "cell_type": "code",
   "execution_count": 19,
   "metadata": {},
   "outputs": [],
   "source": [
    "codes, uniques = pd.factorize(train['State'])"
   ]
  },
  {
   "cell_type": "code",
   "execution_count": 22,
   "metadata": {},
   "outputs": [],
   "source": [
    "code = []\n",
    "for i in range(len(uniques)):\n",
    "    code.append(codes[train.loc[train['State'] == uniques[i]].index[0]])"
   ]
  },
  {
   "cell_type": "code",
   "execution_count": 23,
   "metadata": {},
   "outputs": [],
   "source": [
    "train['State'] = codes"
   ]
  },
  {
   "cell_type": "code",
   "execution_count": 24,
   "metadata": {},
   "outputs": [],
   "source": [
    "for i in range(len(uniques)):\n",
    "    test.loc[test['State'] == uniques[i], 'State'] = code[i]"
   ]
  },
  {
   "cell_type": "code",
   "execution_count": 25,
   "metadata": {},
   "outputs": [
    {
     "data": {
      "text/html": [
       "<div>\n",
       "<style scoped>\n",
       "    .dataframe tbody tr th:only-of-type {\n",
       "        vertical-align: middle;\n",
       "    }\n",
       "\n",
       "    .dataframe tbody tr th {\n",
       "        vertical-align: top;\n",
       "    }\n",
       "\n",
       "    .dataframe thead th {\n",
       "        text-align: right;\n",
       "    }\n",
       "</style>\n",
       "<table border=\"1\" class=\"dataframe\">\n",
       "  <thead>\n",
       "    <tr style=\"text-align: right;\">\n",
       "      <th></th>\n",
       "      <th>State</th>\n",
       "      <th>Total day minutes</th>\n",
       "      <th>Total day calls</th>\n",
       "      <th>Total eve minutes</th>\n",
       "      <th>Total eve calls</th>\n",
       "      <th>Total night minutes</th>\n",
       "      <th>Total night calls</th>\n",
       "      <th>Total intl minutes</th>\n",
       "      <th>Total intl calls</th>\n",
       "      <th>Total charge</th>\n",
       "      <th>Customer service calls</th>\n",
       "      <th>Churn</th>\n",
       "      <th>x0_International</th>\n",
       "      <th>x0_International, Voice mail</th>\n",
       "      <th>x0_None</th>\n",
       "      <th>x0_Voice mail</th>\n",
       "    </tr>\n",
       "  </thead>\n",
       "  <tbody>\n",
       "    <tr>\n",
       "      <td>0</td>\n",
       "      <td>0</td>\n",
       "      <td>174.4</td>\n",
       "      <td>75.0</td>\n",
       "      <td>169.9</td>\n",
       "      <td>80.0</td>\n",
       "      <td>201.6</td>\n",
       "      <td>130.0</td>\n",
       "      <td>11.0</td>\n",
       "      <td>4.0</td>\n",
       "      <td>5613.0</td>\n",
       "      <td>1</td>\n",
       "      <td>0</td>\n",
       "      <td>0.0</td>\n",
       "      <td>0.0</td>\n",
       "      <td>0.0</td>\n",
       "      <td>1.0</td>\n",
       "    </tr>\n",
       "    <tr>\n",
       "      <td>1</td>\n",
       "      <td>1</td>\n",
       "      <td>185.8</td>\n",
       "      <td>119.0</td>\n",
       "      <td>192.3</td>\n",
       "      <td>83.0</td>\n",
       "      <td>200.0</td>\n",
       "      <td>96.0</td>\n",
       "      <td>6.6</td>\n",
       "      <td>4.0</td>\n",
       "      <td>5872.0</td>\n",
       "      <td>1</td>\n",
       "      <td>0</td>\n",
       "      <td>0.0</td>\n",
       "      <td>0.0</td>\n",
       "      <td>1.0</td>\n",
       "      <td>0.0</td>\n",
       "    </tr>\n",
       "    <tr>\n",
       "      <td>2</td>\n",
       "      <td>2</td>\n",
       "      <td>224.9</td>\n",
       "      <td>105.0</td>\n",
       "      <td>250.0</td>\n",
       "      <td>101.0</td>\n",
       "      <td>216.1</td>\n",
       "      <td>73.0</td>\n",
       "      <td>6.7</td>\n",
       "      <td>5.0</td>\n",
       "      <td>7101.0</td>\n",
       "      <td>3</td>\n",
       "      <td>1</td>\n",
       "      <td>0.0</td>\n",
       "      <td>0.0</td>\n",
       "      <td>1.0</td>\n",
       "      <td>0.0</td>\n",
       "    </tr>\n",
       "    <tr>\n",
       "      <td>3</td>\n",
       "      <td>3</td>\n",
       "      <td>128.2</td>\n",
       "      <td>87.0</td>\n",
       "      <td>133.2</td>\n",
       "      <td>105.0</td>\n",
       "      <td>177.6</td>\n",
       "      <td>123.0</td>\n",
       "      <td>11.2</td>\n",
       "      <td>2.0</td>\n",
       "      <td>4412.0</td>\n",
       "      <td>1</td>\n",
       "      <td>0</td>\n",
       "      <td>0.0</td>\n",
       "      <td>0.0</td>\n",
       "      <td>1.0</td>\n",
       "      <td>0.0</td>\n",
       "    </tr>\n",
       "    <tr>\n",
       "      <td>4</td>\n",
       "      <td>4</td>\n",
       "      <td>157.1</td>\n",
       "      <td>134.0</td>\n",
       "      <td>184.9</td>\n",
       "      <td>122.0</td>\n",
       "      <td>197.2</td>\n",
       "      <td>59.0</td>\n",
       "      <td>8.5</td>\n",
       "      <td>5.0</td>\n",
       "      <td>5360.0</td>\n",
       "      <td>4</td>\n",
       "      <td>1</td>\n",
       "      <td>0.0</td>\n",
       "      <td>0.0</td>\n",
       "      <td>1.0</td>\n",
       "      <td>0.0</td>\n",
       "    </tr>\n",
       "  </tbody>\n",
       "</table>\n",
       "</div>"
      ],
      "text/plain": [
       "   State  Total day minutes  Total day calls  Total eve minutes  \\\n",
       "0      0              174.4             75.0              169.9   \n",
       "1      1              185.8            119.0              192.3   \n",
       "2      2              224.9            105.0              250.0   \n",
       "3      3              128.2             87.0              133.2   \n",
       "4      4              157.1            134.0              184.9   \n",
       "\n",
       "   Total eve calls  Total night minutes  Total night calls  \\\n",
       "0             80.0                201.6              130.0   \n",
       "1             83.0                200.0               96.0   \n",
       "2            101.0                216.1               73.0   \n",
       "3            105.0                177.6              123.0   \n",
       "4            122.0                197.2               59.0   \n",
       "\n",
       "   Total intl minutes  Total intl calls  Total charge  Customer service calls  \\\n",
       "0                11.0               4.0        5613.0                       1   \n",
       "1                 6.6               4.0        5872.0                       1   \n",
       "2                 6.7               5.0        7101.0                       3   \n",
       "3                11.2               2.0        4412.0                       1   \n",
       "4                 8.5               5.0        5360.0                       4   \n",
       "\n",
       "   Churn  x0_International  x0_International, Voice mail  x0_None  \\\n",
       "0      0               0.0                           0.0      0.0   \n",
       "1      0               0.0                           0.0      1.0   \n",
       "2      1               0.0                           0.0      1.0   \n",
       "3      0               0.0                           0.0      1.0   \n",
       "4      1               0.0                           0.0      1.0   \n",
       "\n",
       "   x0_Voice mail  \n",
       "0            1.0  \n",
       "1            0.0  \n",
       "2            0.0  \n",
       "3            0.0  \n",
       "4            0.0  "
      ]
     },
     "execution_count": 25,
     "metadata": {},
     "output_type": "execute_result"
    }
   ],
   "source": [
    "train.head()"
   ]
  },
  {
   "cell_type": "code",
   "execution_count": 26,
   "metadata": {},
   "outputs": [
    {
     "data": {
      "text/html": [
       "<div>\n",
       "<style scoped>\n",
       "    .dataframe tbody tr th:only-of-type {\n",
       "        vertical-align: middle;\n",
       "    }\n",
       "\n",
       "    .dataframe tbody tr th {\n",
       "        vertical-align: top;\n",
       "    }\n",
       "\n",
       "    .dataframe thead th {\n",
       "        text-align: right;\n",
       "    }\n",
       "</style>\n",
       "<table border=\"1\" class=\"dataframe\">\n",
       "  <thead>\n",
       "    <tr style=\"text-align: right;\">\n",
       "      <th></th>\n",
       "      <th>State</th>\n",
       "      <th>Total day minutes</th>\n",
       "      <th>Total day calls</th>\n",
       "      <th>Total eve minutes</th>\n",
       "      <th>Total eve calls</th>\n",
       "      <th>Total night minutes</th>\n",
       "      <th>Total night calls</th>\n",
       "      <th>Total intl minutes</th>\n",
       "      <th>Total intl calls</th>\n",
       "      <th>Total charge</th>\n",
       "      <th>Customer service calls</th>\n",
       "      <th>x0_International</th>\n",
       "      <th>x0_International, Voice mail</th>\n",
       "      <th>x0_None</th>\n",
       "      <th>x0_Voice mail</th>\n",
       "    </tr>\n",
       "  </thead>\n",
       "  <tbody>\n",
       "    <tr>\n",
       "      <td>0</td>\n",
       "      <td>49</td>\n",
       "      <td>183.2</td>\n",
       "      <td>103.0</td>\n",
       "      <td>209.4</td>\n",
       "      <td>111.0</td>\n",
       "      <td>172.4</td>\n",
       "      <td>109.0</td>\n",
       "      <td>11.9</td>\n",
       "      <td>6.0</td>\n",
       "      <td>5991.0</td>\n",
       "      <td>1</td>\n",
       "      <td>0.0</td>\n",
       "      <td>0.0</td>\n",
       "      <td>0.0</td>\n",
       "      <td>1.0</td>\n",
       "    </tr>\n",
       "    <tr>\n",
       "      <td>1</td>\n",
       "      <td>50</td>\n",
       "      <td>124.4</td>\n",
       "      <td>74.0</td>\n",
       "      <td>320.9</td>\n",
       "      <td>78.0</td>\n",
       "      <td>157.2</td>\n",
       "      <td>126.0</td>\n",
       "      <td>10.4</td>\n",
       "      <td>4.0</td>\n",
       "      <td>5831.0</td>\n",
       "      <td>2</td>\n",
       "      <td>0.0</td>\n",
       "      <td>0.0</td>\n",
       "      <td>1.0</td>\n",
       "      <td>0.0</td>\n",
       "    </tr>\n",
       "    <tr>\n",
       "      <td>2</td>\n",
       "      <td>14</td>\n",
       "      <td>149.4</td>\n",
       "      <td>111.0</td>\n",
       "      <td>131.8</td>\n",
       "      <td>113.0</td>\n",
       "      <td>132.7</td>\n",
       "      <td>87.0</td>\n",
       "      <td>6.7</td>\n",
       "      <td>2.0</td>\n",
       "      <td>4438.0</td>\n",
       "      <td>0</td>\n",
       "      <td>0.0</td>\n",
       "      <td>0.0</td>\n",
       "      <td>0.0</td>\n",
       "      <td>1.0</td>\n",
       "    </tr>\n",
       "    <tr>\n",
       "      <td>3</td>\n",
       "      <td>48</td>\n",
       "      <td>244.8</td>\n",
       "      <td>91.0</td>\n",
       "      <td>60.8</td>\n",
       "      <td>105.0</td>\n",
       "      <td>176.7</td>\n",
       "      <td>110.0</td>\n",
       "      <td>10.7</td>\n",
       "      <td>3.0</td>\n",
       "      <td>5763.0</td>\n",
       "      <td>2</td>\n",
       "      <td>1.0</td>\n",
       "      <td>0.0</td>\n",
       "      <td>0.0</td>\n",
       "      <td>0.0</td>\n",
       "    </tr>\n",
       "    <tr>\n",
       "      <td>4</td>\n",
       "      <td>19</td>\n",
       "      <td>190.4</td>\n",
       "      <td>92.0</td>\n",
       "      <td>317.5</td>\n",
       "      <td>85.0</td>\n",
       "      <td>133.4</td>\n",
       "      <td>113.0</td>\n",
       "      <td>8.3</td>\n",
       "      <td>4.0</td>\n",
       "      <td>6760.0</td>\n",
       "      <td>2</td>\n",
       "      <td>0.0</td>\n",
       "      <td>0.0</td>\n",
       "      <td>1.0</td>\n",
       "      <td>0.0</td>\n",
       "    </tr>\n",
       "  </tbody>\n",
       "</table>\n",
       "</div>"
      ],
      "text/plain": [
       "   State  Total day minutes  Total day calls  Total eve minutes  \\\n",
       "0     49              183.2            103.0              209.4   \n",
       "1     50              124.4             74.0              320.9   \n",
       "2     14              149.4            111.0              131.8   \n",
       "3     48              244.8             91.0               60.8   \n",
       "4     19              190.4             92.0              317.5   \n",
       "\n",
       "   Total eve calls  Total night minutes  Total night calls  \\\n",
       "0            111.0                172.4              109.0   \n",
       "1             78.0                157.2              126.0   \n",
       "2            113.0                132.7               87.0   \n",
       "3            105.0                176.7              110.0   \n",
       "4             85.0                133.4              113.0   \n",
       "\n",
       "   Total intl minutes  Total intl calls  Total charge  Customer service calls  \\\n",
       "0                11.9               6.0        5991.0                       1   \n",
       "1                10.4               4.0        5831.0                       2   \n",
       "2                 6.7               2.0        4438.0                       0   \n",
       "3                10.7               3.0        5763.0                       2   \n",
       "4                 8.3               4.0        6760.0                       2   \n",
       "\n",
       "   x0_International  x0_International, Voice mail  x0_None  x0_Voice mail  \n",
       "0               0.0                           0.0      0.0            1.0  \n",
       "1               0.0                           0.0      1.0            0.0  \n",
       "2               0.0                           0.0      0.0            1.0  \n",
       "3               1.0                           0.0      0.0            0.0  \n",
       "4               0.0                           0.0      1.0            0.0  "
      ]
     },
     "execution_count": 26,
     "metadata": {},
     "output_type": "execute_result"
    }
   ],
   "source": [
    "test.head()"
   ]
  },
  {
   "cell_type": "code",
   "execution_count": 35,
   "metadata": {},
   "outputs": [],
   "source": [
    "train_data = train.drop('Churn', axis=1)\n",
    "train_labels = train['Churn']"
   ]
  },
  {
   "cell_type": "markdown",
   "metadata": {},
   "source": [
    "## Logistic Regression"
   ]
  },
  {
   "cell_type": "code",
   "execution_count": 31,
   "metadata": {},
   "outputs": [],
   "source": [
    "from sklearn import preprocessing\n",
    "from sklearn.linear_model import LogisticRegression\n",
    "from sklearn.metrics import roc_curve, auc\n",
    "from sklearn.model_selection import cross_val_score\n",
    "from sklearn.model_selection import RandomizedSearchCV\n",
    " \n",
    "lgr = LogisticRegression()"
   ]
  },
  {
   "cell_type": "code",
   "execution_count": 50,
   "metadata": {},
   "outputs": [
    {
     "name": "stdout",
     "output_type": "stream",
     "text": [
      "{'solver': 'newton-cg', 'C': 1.0}\n"
     ]
    },
    {
     "name": "stderr",
     "output_type": "stream",
     "text": [
      "C:\\ProgramData\\Anaconda3\\lib\\site-packages\\scipy\\optimize\\linesearch.py:314: LineSearchWarning: The line search algorithm did not converge\n",
      "  warn('The line search algorithm did not converge', LineSearchWarning)\n",
      "C:\\ProgramData\\Anaconda3\\lib\\site-packages\\sklearn\\utils\\optimize.py:195: UserWarning: Line Search failed\n",
      "  warnings.warn('Line Search failed')\n"
     ]
    }
   ],
   "source": [
    "param_grid = {'C': [0.1, 0.2, 0.3, 0.4, 0.5, 0.6, 0.7, 0.8, 0.9, 1.0],\n",
    "             'solver': ['newton-cg', 'lbfgs', 'liblinear', 'sag', 'saga']}\n",
    "\n",
    "cv_rs = RandomizedSearchCV(estimator=lgr, param_distributions=param_grid, n_iter=50, cv=5, random_state=42, scoring='roc_auc', \n",
    "                           n_jobs=-1)\n",
    "cv_rs.fit(train_data, train_labels)\n",
    " \n",
    "print(cv_rs.best_params_)"
   ]
  },
  {
   "cell_type": "code",
   "execution_count": 51,
   "metadata": {},
   "outputs": [
    {
     "name": "stderr",
     "output_type": "stream",
     "text": [
      "C:\\ProgramData\\Anaconda3\\lib\\site-packages\\scipy\\optimize\\linesearch.py:314: LineSearchWarning: The line search algorithm did not converge\n",
      "  warn('The line search algorithm did not converge', LineSearchWarning)\n",
      "C:\\ProgramData\\Anaconda3\\lib\\site-packages\\sklearn\\utils\\optimize.py:195: UserWarning: Line Search failed\n",
      "  warnings.warn('Line Search failed')\n"
     ]
    }
   ],
   "source": [
    "lgr = LogisticRegression(penalty=\"l2\", solver=cv_rs.best_params_.get('solver'), C=cv_rs.best_params_.get(\"C\"))\n",
    "lgr.fit(train_data, train_labels) #возьмем penalty l2, так как она хорошо сочетается с solver = newton-cg\n",
    "preds = lgr.predict(test)"
   ]
  },
  {
   "cell_type": "code",
   "execution_count": 38,
   "metadata": {},
   "outputs": [],
   "source": [
    "pred = pd.DataFrame({'ID': list(pd.read_csv('test.csv', sep=';')['ID']), 'Churn': list(preds)})"
   ]
  },
  {
   "cell_type": "code",
   "execution_count": 39,
   "metadata": {},
   "outputs": [],
   "source": [
    "pred.to_csv('pred_log_sn.csv', index=False)"
   ]
  },
  {
   "cell_type": "markdown",
   "metadata": {},
   "source": [
    "## Random Forest"
   ]
  },
  {
   "cell_type": "code",
   "execution_count": 76,
   "metadata": {},
   "outputs": [],
   "source": [
    "from sklearn.ensemble import RandomForestClassifier\n",
    "from sklearn import metrics"
   ]
  },
  {
   "cell_type": "code",
   "execution_count": 77,
   "metadata": {},
   "outputs": [
    {
     "data": {
      "text/plain": [
       "RandomizedSearchCV(cv=5, error_score='raise-deprecating',\n",
       "                   estimator=RandomForestClassifier(bootstrap=True,\n",
       "                                                    class_weight=None,\n",
       "                                                    criterion='gini',\n",
       "                                                    max_depth=None,\n",
       "                                                    max_features='auto',\n",
       "                                                    max_leaf_nodes=None,\n",
       "                                                    min_impurity_decrease=0.0,\n",
       "                                                    min_impurity_split=None,\n",
       "                                                    min_samples_leaf=1,\n",
       "                                                    min_samples_split=2,\n",
       "                                                    min_weight_fraction_leaf=0.0,\n",
       "                                                    n_estimators='warn',\n",
       "                                                    n_jobs=None,\n",
       "                                                    oob_sc...\n",
       "                   param_distributions={'max_depth': [1, 2, 3, 4, 5, 6, 7, 8, 9,\n",
       "                                                      10, 11, 12, 13, 14, 15,\n",
       "                                                      16, 17, 18, 19],\n",
       "                                        'max_features': ['auto', 'sqrt',\n",
       "                                                         'log2'],\n",
       "                                        'min_samples_leaf': [1, 2, 4],\n",
       "                                        'min_samples_split': [2, 5, 10],\n",
       "                                        'n_estimators': [1, 3, 5, 7, 9, 11, 13,\n",
       "                                                         15, 17, 19, 21, 23, 25,\n",
       "                                                         27, 29, 31, 33, 35, 37,\n",
       "                                                         39, 41, 43, 45, 47,\n",
       "                                                         49]},\n",
       "                   pre_dispatch='2*n_jobs', random_state=5, refit=True,\n",
       "                   return_train_score=False, scoring='roc_auc', verbose=0)"
      ]
     },
     "execution_count": 77,
     "metadata": {},
     "output_type": "execute_result"
    }
   ],
   "source": [
    "model = RandomForestClassifier()\n",
    "\n",
    "param_grid = {'n_estimators': [i for i in range(1, 50, 2)], 'max_features' : [\"auto\", \"sqrt\", \"log2\"], \n",
    "              'max_depth': [i for i in range(1, 20)], 'min_samples_split' : [2, 5, 10],\n",
    "              'min_samples_leaf': [1, 2, 4]}\n",
    "\n",
    "cv_rs = RandomizedSearchCV(estimator=model, param_distributions=param_grid, n_iter=100, cv=5, random_state=5, \n",
    "                           scoring='roc_auc', n_jobs=-1)\n",
    "\n",
    "cv_rs.fit(train_data, train_labels)"
   ]
  },
  {
   "cell_type": "code",
   "execution_count": 78,
   "metadata": {},
   "outputs": [
    {
     "data": {
      "text/plain": [
       "RandomForestClassifier(bootstrap=True, class_weight=None, criterion='gini',\n",
       "                       max_depth=10, max_features='log2', max_leaf_nodes=None,\n",
       "                       min_impurity_decrease=0.0, min_impurity_split=None,\n",
       "                       min_samples_leaf=1, min_samples_split=2,\n",
       "                       min_weight_fraction_leaf=0.0, n_estimators=35,\n",
       "                       n_jobs=None, oob_score=False, random_state=None,\n",
       "                       verbose=0, warm_start=False)"
      ]
     },
     "execution_count": 78,
     "metadata": {},
     "output_type": "execute_result"
    }
   ],
   "source": [
    "model = RandomForestClassifier(n_estimators=cv_rs.best_params_.get(\"n_estimators\"), \n",
    "                               min_samples_split=cv_rs.best_params_.get(\"min_samples_split\"), \n",
    "                               min_samples_leaf=cv_rs.best_params_.get(\"min_samples_leaf\"), \n",
    "                               max_features=cv_rs.best_params_.get(\"max_features\"), \n",
    "                               max_depth=cv_rs.best_params_.get(\"max_depth\"))\n",
    "\n",
    "model.fit(train_data, train_labels)"
   ]
  },
  {
   "cell_type": "code",
   "execution_count": 79,
   "metadata": {},
   "outputs": [],
   "source": [
    "predicted = model.predict(test)"
   ]
  },
  {
   "cell_type": "code",
   "execution_count": 80,
   "metadata": {},
   "outputs": [],
   "source": [
    "pred = pd.DataFrame({'ID': list(pd.read_csv('test.csv', sep=';')['ID']), 'Churn': list(predicted)})"
   ]
  },
  {
   "cell_type": "code",
   "execution_count": 81,
   "metadata": {},
   "outputs": [],
   "source": [
    "pred.to_csv('pred3_sn4.csv', index=False)"
   ]
  },
  {
   "cell_type": "markdown",
   "metadata": {},
   "source": [
    "## XGBClassifier"
   ]
  },
  {
   "cell_type": "code",
   "execution_count": 47,
   "metadata": {},
   "outputs": [],
   "source": [
    "import xgboost as xgb"
   ]
  },
  {
   "cell_type": "code",
   "execution_count": 82,
   "metadata": {},
   "outputs": [
    {
     "data": {
      "text/plain": [
       "XGBClassifier(base_score=0.5, booster='gbtree', colsample_bylevel=1,\n",
       "              colsample_bynode=1, colsample_bytree=1, gamma=0, gpu_id=-1,\n",
       "              importance_type='gain', interaction_constraints='',\n",
       "              learning_rate=0.02, max_delta_step=0, max_depth=10,\n",
       "              min_child_weight=2, missing=nan, monotone_constraints='()',\n",
       "              n_estimators=16, n_jobs=0, num_parallel_tree=1,\n",
       "              objective='binary:logistic', random_state=0, reg_alpha=0,\n",
       "              reg_lambda=1, scale_pos_weight=1, subsample=0.8,\n",
       "              tree_method='exact', validate_parameters=1, verbosity=None)"
      ]
     },
     "execution_count": 82,
     "metadata": {},
     "output_type": "execute_result"
    }
   ],
   "source": [
    "model = xgb.XGBClassifier(learning_rate=0.02, max_depth=10, n_estimators=16, min_child_weight=2, subsample=0.8) #best\n",
    "model.fit(train_data, train_labels) #parameters"
   ]
  },
  {
   "cell_type": "code",
   "execution_count": 83,
   "metadata": {},
   "outputs": [],
   "source": [
    "predicted = model.predict(test)"
   ]
  },
  {
   "cell_type": "code",
   "execution_count": 84,
   "metadata": {},
   "outputs": [],
   "source": [
    "pred = pd.DataFrame({'ID': list(pd.read_csv('test.csv', sep=';')['ID']), 'Churn': list(predicted)})"
   ]
  },
  {
   "cell_type": "code",
   "execution_count": 85,
   "metadata": {},
   "outputs": [],
   "source": [
    "pred.to_csv('predxgb_sn2.csv', index=False)"
   ]
  }
 ],
 "metadata": {
  "kernelspec": {
   "display_name": "Python 3",
   "language": "python",
   "name": "python3"
  },
  "language_info": {
   "codemirror_mode": {
    "name": "ipython",
    "version": 3
   },
   "file_extension": ".py",
   "mimetype": "text/x-python",
   "name": "python",
   "nbconvert_exporter": "python",
   "pygments_lexer": "ipython3",
   "version": "3.7.4"
  }
 },
 "nbformat": 4,
 "nbformat_minor": 4
}
